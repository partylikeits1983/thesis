{
 "cells": [
  {
   "cell_type": "markdown",
   "id": "b9b7a164",
   "metadata": {},
   "source": [
    "## Code Snippets\n",
    "\n",
    "Digitization of Diplomacy via Cryptography and Smart Contracts: *Potential Methods to Improve Transparency, Sovereignty, and Decentralization of Diplomacy in the Modern Era*"
   ]
  },
  {
   "cell_type": "code",
   "execution_count": null,
   "id": "ebbe4159",
   "metadata": {},
   "outputs": [],
   "source": []
  },
  {
   "cell_type": "markdown",
   "id": "e7fd20be",
   "metadata": {},
   "source": [
    "#### Simple Example of Diffie-Hellman in Python"
   ]
  },
  {
   "cell_type": "code",
   "execution_count": 21,
   "id": "340a5e9d",
   "metadata": {},
   "outputs": [
    {
     "name": "stdout",
     "output_type": "stream",
     "text": [
      "Alice's shared secret: 105\n",
      "Bob's shared secret: 105\n"
     ]
    }
   ],
   "source": [
    "import random\n",
    "\n",
    "# Step 1: Generate and share prime number and base\n",
    "p = 941\n",
    "g = 627\n",
    "\n",
    "# Step 2: Alice and Bob generate private keys\n",
    "# Alice's private key\n",
    "a = 152\n",
    "# Bob's private key\n",
    "b = 89\n",
    "\n",
    "# Step 3: Alice and Bob generate public keys\n",
    "# Alice's public key\n",
    "A = (g ** a) % p\n",
    "# Bob's public key\n",
    "B = (g ** b) % p\n",
    "\n",
    "# Step 4: Alice and Bob exchange their public keys\n",
    "# Alice receives Bob's public key and calculates shared secret\n",
    "sA = (B ** a) % p\n",
    "# Bob receives Alice's public key and calculates shared secret\n",
    "sB = (A ** b) % p\n",
    "\n",
    "# Both have arrived at the same shared secret key\n",
    "print(f\"Alice's shared secret: {sA}\")\n",
    "print(f\"Bob's shared secret: {sB}\")\n",
    "\n",
    "# Output:\n",
    "# Alice's shared secret: 105\n",
    "# Bob's shared secret: 105"
   ]
  },
  {
   "cell_type": "markdown",
   "id": "e29b636a",
   "metadata": {},
   "source": [
    "#### Primitive example of implementing a brute force attack on Diffie-Hellman"
   ]
  },
  {
   "cell_type": "code",
   "execution_count": 23,
   "id": "0c9faa6f",
   "metadata": {},
   "outputs": [
    {
     "name": "stdout",
     "output_type": "stream",
     "text": [
      "Brute force successful! Shared secret key: 105\n"
     ]
    }
   ],
   "source": [
    "for i in range(1, p):\n",
    "    if (g ** i) % p == A:\n",
    "        s = (B ** i) % p\n",
    "        print(f\"Brute force successful! Shared secret key: {s}\")\n",
    "        break\n",
    "        \n",
    "# Output:\n",
    "# Brute force successful! Shared secret key: 105"
   ]
  },
  {
   "cell_type": "code",
   "execution_count": null,
   "id": "8e2bf50c",
   "metadata": {},
   "outputs": [],
   "source": []
  },
  {
   "cell_type": "markdown",
   "id": "35f8f4d7",
   "metadata": {},
   "source": [
    "#### Generating a 1000 bit random integer"
   ]
  },
  {
   "cell_type": "code",
   "execution_count": 15,
   "id": "55fd3aa0",
   "metadata": {},
   "outputs": [
    {
     "name": "stdout",
     "output_type": "stream",
     "text": [
      "8007962056648022999545007725649131141178072697827882559294412827489786863249936797688490222344595193991507699775486713692222482349945438510318011697134286634674346673190724245580401654920631360738597964493273419554252269709993817983875427185344855156619604421479044041845021586505131783763710605307351\n"
     ]
    }
   ],
   "source": [
    "import random\n",
    "import sympy\n",
    "\n",
    "while True:\n",
    "    # Generate a 1000-bit random integer\n",
    "    n = random.getrandbits(1000)\n",
    "    \n",
    "    # Check if the integer is prime using the isprime() function from the sympy module\n",
    "    if sympy.isprime(n):\n",
    "        # Print the prime number and exit the loop\n",
    "        print(n)\n",
    "        break\n"
   ]
  },
  {
   "cell_type": "code",
   "execution_count": null,
   "id": "d0df6a37",
   "metadata": {},
   "outputs": [],
   "source": []
  },
  {
   "cell_type": "markdown",
   "id": "93160193",
   "metadata": {},
   "source": [
    "#### Example of using RSA for encryption and decryption"
   ]
  },
  {
   "cell_type": "code",
   "execution_count": 1,
   "id": "0cddc2bb",
   "metadata": {},
   "outputs": [
    {
     "name": "stdout",
     "output_type": "stream",
     "text": [
      "Original message: b'This is a secret message'\n",
      "Decrypted message: b'This is a secret message'\n"
     ]
    }
   ],
   "source": [
    "import Crypto\n",
    "from Crypto.PublicKey import RSA\n",
    "from Crypto.Cipher import PKCS1_OAEP\n",
    "\n",
    "# Generate an RSA key pair with 2048-bit key length\n",
    "key = RSA.generate(2048)\n",
    "\n",
    "# Extract the public key and private key components\n",
    "public_key = key.publickey()\n",
    "private_key = key\n",
    "\n",
    "# Encrypt a message using the public key\n",
    "message = b'This is a secret message'\n",
    "cipher = PKCS1_OAEP.new(public_key)\n",
    "ciphertext = cipher.encrypt(message)\n",
    "\n",
    "# Decrypt the ciphertext using the private key\n",
    "cipher = PKCS1_OAEP.new(private_key)\n",
    "plaintext = cipher.decrypt(ciphertext)\n",
    "\n",
    "print(\"Original message:\", message)\n",
    "print(\"Decrypted message:\", plaintext)\n",
    "\n",
    "# Output:\n",
    "# Original message: b'This is a secret message'\n",
    "# Decrypted message: b'This is a secret message'"
   ]
  },
  {
   "cell_type": "code",
   "execution_count": null,
   "id": "2e267664",
   "metadata": {},
   "outputs": [],
   "source": []
  },
  {
   "cell_type": "markdown",
   "id": "b2614d1d",
   "metadata": {},
   "source": [
    "#### Example of SHA-256"
   ]
  },
  {
   "cell_type": "code",
   "execution_count": 2,
   "id": "79f2e02d",
   "metadata": {},
   "outputs": [
    {
     "data": {
      "text/plain": [
       "'2cf24dba5fb0a30e26e83b2ac5b9e29e1b161e5c1fa7425e73043362938b9824'"
      ]
     },
     "execution_count": 2,
     "metadata": {},
     "output_type": "execute_result"
    }
   ],
   "source": [
    "import hashlib\n",
    "\n",
    "def sha256(text):\n",
    "    # Create a new SHA-256 hash object\n",
    "    sha256 = hashlib.sha256()\n",
    "\n",
    "    # Update the hash object with some input data\n",
    "    sha256.update(text.encode())\n",
    "\n",
    "    # Get the hash value as a byte string\n",
    "    hash_value = sha256.digest()\n",
    "\n",
    "    # return the hash value as a hexadecimal string\n",
    "    return hash_value.hex()\n",
    "\n",
    "sha256('Hello')\n",
    "sha256('hello')"
   ]
  },
  {
   "cell_type": "code",
   "execution_count": null,
   "id": "e6a53683",
   "metadata": {},
   "outputs": [],
   "source": []
  },
  {
   "cell_type": "markdown",
   "id": "fd15b138",
   "metadata": {},
   "source": [
    "#### Example of a hash collision using the MD5 hashing algorithm"
   ]
  },
  {
   "cell_type": "code",
   "execution_count": 6,
   "id": "0c063950",
   "metadata": {},
   "outputs": [
    {
     "name": "stdout",
     "output_type": "stream",
     "text": [
      "False\n",
      "cee9a457e790cf20d4bdaa6d69f01e41\n",
      "cee9a457e790cf20d4bdaa6d69f01e41\n"
     ]
    }
   ],
   "source": [
    "from array import array\n",
    "from hashlib import md5\n",
    "\n",
    "input1 = array('I',  [0x6165300e,0x87a79a55,0xf7c60bd0,0x34febd0b,0x6503cf04,\n",
    "                      0x854f709e,0xfb0fc034,0x874c9c65,0x2f94cc40,0x15a12deb,\n",
    "                      0x5c15f4a3,0x490786bb,0x6d658673,0xa4341f7d,0x8fd75920,0xefd18d5a])\n",
    "\n",
    "input2 = array('I', [x^y for x,y in zip(input1, [0, 0, 0, 0, 0, 1<<10, 0, 0, 0, 0, 1<<31, 0, 0, 0, 0, 0])])\n",
    "\n",
    "\n",
    "print(input1 == input2)\n",
    "#False\n",
    "\n",
    "hash1 = md5(input1).hexdigest()\n",
    "#'cee9a457e790cf20d4bdaa6d69f01e41'\n",
    "\n",
    "hash2 = md5(input2).hexdigest()\n",
    "#'cee9a457e790cf20d4bdaa6d69f01e41'\n",
    "\n",
    "print(hash1)\n",
    "print(hash2)\n",
    "\n",
    "assert input1 != input2\n",
    "assert hash1 == hash2"
   ]
  },
  {
   "cell_type": "code",
   "execution_count": null,
   "id": "53891831",
   "metadata": {},
   "outputs": [],
   "source": []
  },
  {
   "cell_type": "markdown",
   "id": "5cad2de3",
   "metadata": {},
   "source": [
    "#### Max Value of a 256-bit and 512-bit number"
   ]
  },
  {
   "cell_type": "code",
   "execution_count": 26,
   "id": "9cebcfce",
   "metadata": {},
   "outputs": [
    {
     "name": "stdout",
     "output_type": "stream",
     "text": [
      "Max value of a 256-bit number:  1.16e+77\n",
      "Max value of a 512-bit number:  1.34e+154\n"
     ]
    }
   ],
   "source": [
    "max_value256 = (1 << 256) - 1\n",
    "print(\"Max value of a 256-bit number: \", \"{:.2e}\".format(max_value256))\n",
    "\n",
    "max_value512 = (1 << 512) - 1\n",
    "print(\"Max value of a 512-bit number: \", \"{:.2e}\".format(max_value512))"
   ]
  },
  {
   "cell_type": "markdown",
   "id": "73d0e731",
   "metadata": {},
   "source": [
    "Number of Atoms in Known Universe:"
   ]
  },
  {
   "cell_type": "code",
   "execution_count": 28,
   "id": "27d26870",
   "metadata": {},
   "outputs": [
    {
     "data": {
      "text/plain": [
       "2.529775081121245e+73"
      ]
     },
     "execution_count": 28,
     "metadata": {},
     "output_type": "execute_result"
    }
   ],
   "source": [
    "atoms_in_known_universe = 5.3 * 10e79\n",
    "\n",
    "max_value512 / atoms_in_known_universe"
   ]
  },
  {
   "cell_type": "code",
   "execution_count": null,
   "id": "916d3716",
   "metadata": {},
   "outputs": [],
   "source": []
  },
  {
   "cell_type": "markdown",
   "id": "c0f38310",
   "metadata": {},
   "source": [
    "#### Example of verifying a message using ECDSA"
   ]
  },
  {
   "cell_type": "code",
   "execution_count": 6,
   "id": "26316977",
   "metadata": {},
   "outputs": [
    {
     "name": "stdout",
     "output_type": "stream",
     "text": [
      "Alice's private key: 9e69d7e968a6009a7da4f71435fd2a0ed6b24bf290a965becb3b432b1548a5b6\n",
      "Alice's public key: ace20fd6cd905c6ef8abcc089d198cb1d92e9da48d3fc5724dfc0d47e7a1bcb0798c0c43130d2c8c4bc99a0d1569290f4415282c4ca17d82d082d4b3e8f7d40b\n",
      "Alice's signature: 77754818428c90577f6620fd015a7866b16bf2543f73e85002b02b0e16dd164713481b22e24be1466e0e95580439d84e144fb2f0f59f3d1700390bee351c672a\n",
      "Signature verified!\n"
     ]
    }
   ],
   "source": [
    "import ecdsa\n",
    "\n",
    "# Generate a random private key for Alice\n",
    "private_key = ecdsa.SigningKey.generate(curve=ecdsa.SECP256k1)\n",
    "\n",
    "# Get the corresponding public key for Alice\n",
    "public_key = private_key.get_verifying_key()\n",
    "\n",
    "# Print the keys\n",
    "print(\"Alice's private key:\", private_key.to_string().hex())\n",
    "print(\"Alice's public key:\", public_key.to_string().hex())\n",
    "\n",
    "# Next, Alice can use her private key to sign a message:\n",
    "\n",
    "# Alice's message\n",
    "message = b\"Hello, Bob!\"\n",
    "\n",
    "# Sign the message with Alice's private key\n",
    "signature = private_key.sign(message)\n",
    "\n",
    "# Print the signature\n",
    "print(\"Alice's signature:\", signature.hex())\n",
    "\n",
    "# Bob can verify the signature using Alice's public key:\n",
    "\n",
    "# Verify the signature with Alice's public key\n",
    "assert public_key.verify(signature, message)\n",
    "print(\"Signature verified!\")"
   ]
  },
  {
   "cell_type": "code",
   "execution_count": null,
   "id": "6724fc46",
   "metadata": {},
   "outputs": [],
   "source": []
  },
  {
   "cell_type": "code",
   "execution_count": null,
   "id": "ec3481b1",
   "metadata": {},
   "outputs": [],
   "source": []
  },
  {
   "cell_type": "markdown",
   "id": "ca79f19b",
   "metadata": {},
   "source": [
    "#### Getting average daily number of Bitcoin transactions past 90 days:"
   ]
  },
  {
   "cell_type": "code",
   "execution_count": 34,
   "id": "11422c9b",
   "metadata": {},
   "outputs": [
    {
     "name": "stdout",
     "output_type": "stream",
     "text": [
      "Average daily number of transactions on the Bitcoin blockchain past 90 days: 334645.42\n"
     ]
    }
   ],
   "source": [
    "import requests\n",
    "import datetime\n",
    "\n",
    "def get_avg_tx_volume():\n",
    "    # Get the current date\n",
    "    current_date = datetime.datetime.now()\n",
    "\n",
    "    # Calculate the date 3 months ago\n",
    "    three_months_ago = current_date - datetime.timedelta(days=90)\n",
    "\n",
    "    # Format the date strings for the API request\n",
    "    current_date_str = current_date.strftime(\"%Y-%m-%d\")\n",
    "    three_months_ago_str = three_months_ago.strftime(\"%Y-%m-%d\")\n",
    "\n",
    "    # Make the API request to retrieve Bitcoin transaction data\n",
    "    url = f\"https://api.blockchain.info/charts/n-transactions?timespan=90days&start={three_months_ago_str}&end={current_date_str}&format=json\"\n",
    "    response = requests.get(url)\n",
    "\n",
    "    # Parse the JSON response and calculate the average transaction volume\n",
    "    tx_data = response.json()\n",
    "    tx_volumes = [tx['y'] for tx in tx_data['values']]\n",
    "    avg_tx_volume = sum(tx_volumes) / len(tx_volumes)\n",
    "\n",
    "    return avg_tx_volume\n",
    "\n",
    "threeMonthDailyAverageTxBTC = get_avg_tx_volume()\n",
    "\n",
    "print(f\"Average daily number of transactions on the Bitcoin blockchain past 90 days: {threeMonthDailyAverageTxBTC:.2f}\")"
   ]
  },
  {
   "cell_type": "markdown",
   "id": "5ac6bfd8",
   "metadata": {},
   "source": [
    "#### Getting average Bitcoin transaction amount in USD past 90 days:"
   ]
  },
  {
   "cell_type": "code",
   "execution_count": 35,
   "id": "5def5178",
   "metadata": {},
   "outputs": [
    {
     "name": "stdout",
     "output_type": "stream",
     "text": [
      "Average BTC transaction amount in USD past 90 days: $199.16\n"
     ]
    }
   ],
   "source": [
    "import requests\n",
    "import datetime\n",
    "\n",
    "def get_avg_tx_size():\n",
    "    # Get the current date\n",
    "    current_date = datetime.datetime.now()\n",
    "\n",
    "    # Calculate the date 3 months ago\n",
    "    three_months_ago = current_date - datetime.timedelta(days=90)\n",
    "\n",
    "    # Format the date strings for the API request\n",
    "    current_date_str = current_date.strftime(\"%Y-%m-%d\")\n",
    "    three_months_ago_str = three_months_ago.strftime(\"%Y-%m-%d\")\n",
    "\n",
    "    # Make the API request to retrieve Bitcoin transaction volume and size data\n",
    "    url = f\"https://api.blockchain.info/charts/n-transactions?timespan=90days&start={three_months_ago_str}&end={current_date_str}&format=json\"\n",
    "    response = requests.get(url)\n",
    "    tx_data = response.json()\n",
    "\n",
    "    url = f\"https://api.blockchain.info/charts/n-transactions-per-block?timespan=90days&start={three_months_ago_str}&end={current_date_str}&format=json\"\n",
    "    response = requests.get(url)\n",
    "    size_data = response.json()\n",
    "\n",
    "    # Extract transaction volume and size data and calculate the average transaction size\n",
    "    tx_volumes = [tx['y'] for tx in tx_data['values']]\n",
    "    tx_sizes = [size['y'] / tx['y'] for tx, size in zip(tx_data['values'], size_data['values'])]\n",
    "    avg_tx_size = sum(tx_sizes) / len(tx_sizes)\n",
    "\n",
    "    return avg_tx_size\n",
    "\n",
    "\n",
    "def get_btc_price():\n",
    "    url = \"https://api.coinbase.com/v2/prices/BTC-USD/spot\"\n",
    "    response = requests.get(url)\n",
    "\n",
    "    if response.status_code == 200:\n",
    "        data = response.json()\n",
    "        price = float(data['data']['amount'])\n",
    "        return price\n",
    "    else:\n",
    "        print(\"Error retrieving BTC price\")\n",
    "        \n",
    "        \n",
    "averageBTCtxSizeUSD90day = get_avg_tx_size() * get_btc_price()\n",
    "\n",
    "print(f\"Average BTC transaction amount in USD past 90 days: ${averageBTCtxSizeUSD90day:.2f}\")"
   ]
  },
  {
   "cell_type": "code",
   "execution_count": null,
   "id": "1ff8c552",
   "metadata": {},
   "outputs": [],
   "source": []
  },
  {
   "cell_type": "code",
   "execution_count": null,
   "id": "363f0f5a",
   "metadata": {},
   "outputs": [],
   "source": []
  }
 ],
 "metadata": {
  "kernelspec": {
   "display_name": "Python 3 (ipykernel)",
   "language": "python",
   "name": "python3"
  },
  "language_info": {
   "codemirror_mode": {
    "name": "ipython",
    "version": 3
   },
   "file_extension": ".py",
   "mimetype": "text/x-python",
   "name": "python",
   "nbconvert_exporter": "python",
   "pygments_lexer": "ipython3",
   "version": "3.10.6"
  }
 },
 "nbformat": 4,
 "nbformat_minor": 5
}
